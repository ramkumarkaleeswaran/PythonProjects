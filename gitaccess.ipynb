{
  "nbformat": 4,
  "nbformat_minor": 0,
  "metadata": {
    "colab": {
      "name": "Untitled5.ipynb",
      "provenance": [],
      "authorship_tag": "ABX9TyNVGSm0eRPU0fWW4bjnu4Yq",
      "include_colab_link": true
    },
    "kernelspec": {
      "name": "python3",
      "display_name": "Python 3"
    }
  },
  "cells": [
    {
      "cell_type": "markdown",
      "metadata": {
        "id": "view-in-github",
        "colab_type": "text"
      },
      "source": [
        "<a href=\"https://colab.research.google.com/github/ramkumarkaleeswaran/PythonProjects/blob/master/gitaccess.ipynb\" target=\"_parent\"><img src=\"https://colab.research.google.com/assets/colab-badge.svg\" alt=\"Open In Colab\"/></a>"
      ]
    },
    {
      "cell_type": "code",
      "metadata": {
        "id": "eHIHJ6Sc9NbG",
        "colab_type": "code",
        "colab": {
          "base_uri": "https://localhost:8080/",
          "height": 67
        },
        "outputId": "ce88618c-4f33-4fb1-947c-078a1c6e4518"
      },
      "source": [
        "import urllib.request\n",
        "import json\n",
        "import datetime\n",
        "\n",
        "githuburl = \"https://api.github.com/repos/mbostock/d3/stats/commit_activity\";\n",
        "# url that provides the commit activity for the d3 repo in the past year\n",
        "\n",
        "response = urllib.request.urlopen(githuburl);\n",
        "\n",
        "content = response.read();\n",
        "#get the json response\n",
        "\n",
        "data = json.loads(content.decode(\"utf8\"));\n",
        "#decode as utf8\n",
        "\n",
        "data_string = json.dumps(data);\n",
        "#get it as string\n",
        "\n",
        "\n",
        "data_load = json.loads(data_string);\n",
        "#load the json into python string for futher processing\n",
        "\n",
        "maxCommits=0;\n",
        "CommitOndaysOfWeek = [0,0,0,0,0,0,0];\n",
        "\n",
        "for index in range(len(data_load)):\n",
        "    \n",
        "    for index2 in range(0,7):\n",
        "        CommitOndaysOfWeek[index2] = CommitOndaysOfWeek[index2]+data_load[index]['days'][index2];\n",
        "        \n",
        "    \n",
        "    if data_load[index]['total'] > maxCommits :\n",
        "        maxCommits = data_load[index]['total'];\n",
        "        maxCommitsWeek=data_load[index]['week'];\n",
        "        maxCommitsIndex=index;\n",
        "\n",
        "    \n",
        "\n",
        "\n",
        "print('Week in the last year had the greatest number of commits = ', datetime.datetime.fromtimestamp(int(maxCommitsWeek)));\n",
        "# convert the unix time stamp to readable string and print the value\n",
        "\n",
        "print('Day of the week that had the most commits = ',CommitOndaysOfWeek.index(max(CommitOndaysOfWeek)));     \n",
        "# print the index of the array which has the max value\n",
        "\n",
        "print('Aggregate commits per day from Sunday to Saturday = ',CommitOndaysOfWeek);\n",
        "# print the aggregate commits for each day of the week. "
      ],
      "execution_count": 1,
      "outputs": [
        {
          "output_type": "stream",
          "text": [
            "Week in the last year had the greatest number of commits =  2019-06-23 00:00:00\n",
            "Day of the week that had the most commits =  3\n",
            "Aggregate commits per day from Sunday to Saturday =  [6, 8, 6, 11, 10, 2, 4]\n"
          ],
          "name": "stdout"
        }
      ]
    }
  ]
}